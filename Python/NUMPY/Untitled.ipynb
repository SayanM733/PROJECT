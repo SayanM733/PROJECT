{
 "cells": [
  {
   "cell_type": "markdown",
   "id": "c755bce6",
   "metadata": {},
   "source": [
    "# COPY & VIEW"
   ]
  },
  {
   "cell_type": "code",
   "execution_count": 1,
   "id": "5c778eaf",
   "metadata": {},
   "outputs": [
    {
     "name": "stdout",
     "output_type": "stream",
     "text": [
      "var :  [1 2 3 4]\n",
      "copy :  [1 2 3 4]\n"
     ]
    }
   ],
   "source": [
    "import numpy as np\n",
    "\n",
    "var = np.array([1,2,3,4])\n",
    "\n",
    "co = var.copy()\n",
    "\n",
    "print(\"var : \",var)\n",
    "print(\"copy : \",co)\n"
   ]
  },
  {
   "cell_type": "code",
   "execution_count": 4,
   "id": "69148b12",
   "metadata": {},
   "outputs": [
    {
     "name": "stdout",
     "output_type": "stream",
     "text": [
      "var :  [ 1 40  3  4]\n",
      "view :  [ 1 40  3  4]\n"
     ]
    }
   ],
   "source": [
    "import numpy as np\n",
    "\n",
    "x = np.array([1,2,3,4])\n",
    "\n",
    "vi = x.view()\n",
    "x[1]=40\n",
    "print(\"var : \",x)\n",
    "print(\"view : \",vi)\n"
   ]
  },
  {
   "cell_type": "code",
   "execution_count": null,
   "id": "2c205d7a",
   "metadata": {},
   "outputs": [],
   "source": []
  }
 ],
 "metadata": {
  "kernelspec": {
   "display_name": "Python 3 (ipykernel)",
   "language": "python",
   "name": "python3"
  },
  "language_info": {
   "codemirror_mode": {
    "name": "ipython",
    "version": 3
   },
   "file_extension": ".py",
   "mimetype": "text/x-python",
   "name": "python",
   "nbconvert_exporter": "python",
   "pygments_lexer": "ipython3",
   "version": "3.11.4"
  }
 },
 "nbformat": 4,
 "nbformat_minor": 5
}
