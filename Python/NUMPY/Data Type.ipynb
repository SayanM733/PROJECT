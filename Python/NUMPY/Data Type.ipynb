{
 "cells": [
  {
   "cell_type": "markdown",
   "id": "a4d7788f",
   "metadata": {},
   "source": [
    "# DATA TYPE"
   ]
  },
  {
   "cell_type": "code",
   "execution_count": 2,
   "id": "c2058402",
   "metadata": {},
   "outputs": [
    {
     "ename": "ModuleNotFoundError",
     "evalue": "No module named 'numpy'",
     "output_type": "error",
     "traceback": [
      "\u001b[1;31m---------------------------------------------------------------------------\u001b[0m",
      "\u001b[1;31mModuleNotFoundError\u001b[0m                       Traceback (most recent call last)",
      "Cell \u001b[1;32mIn[2], line 1\u001b[0m\n\u001b[1;32m----> 1\u001b[0m \u001b[39mimport\u001b[39;00m \u001b[39mnumpy\u001b[39;00m \u001b[39mas\u001b[39;00m \u001b[39mnp\u001b[39;00m\n\u001b[0;32m      3\u001b[0m var \u001b[39m=\u001b[39m np\u001b[39m.\u001b[39marray([\u001b[39m1\u001b[39m,\u001b[39m2\u001b[39m,\u001b[39m3\u001b[39m,\u001b[39m4\u001b[39m])\n\u001b[0;32m      5\u001b[0m \u001b[39mprint\u001b[39m(\u001b[39m\"\u001b[39m\u001b[39mData_type\u001b[39m\u001b[39m\"\u001b[39m,var\u001b[39m.\u001b[39mdtype)\n",
      "\u001b[1;31mModuleNotFoundError\u001b[0m: No module named 'numpy'"
     ]
    }
   ],
   "source": [
    "import numpy as np\n",
    "\n",
    "var = np.array([1,2,3,4])\n",
    "\n",
    "print(\"Data_type\",var.dtype)"
   ]
  },
  {
   "cell_type": "code",
   "execution_count": 2,
   "id": "c1fbed8d",
   "metadata": {},
   "outputs": [
    {
     "name": "stdout",
     "output_type": "stream",
     "text": [
      "Data_type float64\n"
     ]
    }
   ],
   "source": [
    "var = np.array([1.0,2.0,6.9])\n",
    "\n",
    "print(\"Data_type\",var.dtype)"
   ]
  },
  {
   "cell_type": "code",
   "execution_count": 4,
   "id": "9d4f5565",
   "metadata": {},
   "outputs": [
    {
     "name": "stdout",
     "output_type": "stream",
     "text": [
      "Data_type <U1\n"
     ]
    }
   ],
   "source": [
    "var = np.array([\"A\",\"B\"])\n",
    "\n",
    "print(\"Data_type\",var.dtype)"
   ]
  },
  {
   "cell_type": "code",
   "execution_count": 5,
   "id": "754c3e90",
   "metadata": {},
   "outputs": [
    {
     "name": "stdout",
     "output_type": "stream",
     "text": [
      "Data_type <U11\n"
     ]
    }
   ],
   "source": [
    "var = np.array([1,2,3,4,\"A\",\"B\"])\n",
    "\n",
    "print(\"Data_type\",var.dtype)"
   ]
  },
  {
   "cell_type": "code",
   "execution_count": 12,
   "id": "98651363",
   "metadata": {},
   "outputs": [
    {
     "name": "stdout",
     "output_type": "stream",
     "text": [
      "Data_type int8\n",
      "[1 2 3 4]\n"
     ]
    }
   ],
   "source": [
    "x = np.array([1,2,3,4],dtype = np.int8)\n",
    "\n",
    "print(\"Data_type\",x.dtype)\n",
    "print(x)"
   ]
  },
  {
   "cell_type": "code",
   "execution_count": 14,
   "id": "bfce2ca9",
   "metadata": {},
   "outputs": [
    {
     "name": "stdout",
     "output_type": "stream",
     "text": [
      "Data_type float32\n",
      "[1. 2. 3. 4.]\n"
     ]
    }
   ],
   "source": [
    "x1 = np.array([1,2,3,4],dtype = \"f\")\n",
    "\n",
    "print(\"Data_type\",x1.dtype)\n",
    "print(x1)"
   ]
  },
  {
   "cell_type": "code",
   "execution_count": 15,
   "id": "811df609",
   "metadata": {},
   "outputs": [
    {
     "name": "stdout",
     "output_type": "stream",
     "text": [
      "Data_type:  int64\n",
      "Data_type:  float32\n",
      "[1 2 3 4]\n",
      "[1. 2. 3. 4.]\n"
     ]
    }
   ],
   "source": [
    "x2 = np.array([1,2,3,4],dtype = np.int64)\n",
    "\n",
    "new = np.float32(x2)\n",
    "\n",
    "print(\"Data_type: \",x2.dtype)\n",
    "print(\"Data_type: \",new.dtype)\n",
    "print(x2)\n",
    "print(new)"
   ]
  },
  {
   "cell_type": "code",
   "execution_count": 17,
   "id": "26df4ba2",
   "metadata": {},
   "outputs": [
    {
     "name": "stdout",
     "output_type": "stream",
     "text": [
      "Data_type:  int32\n",
      "Data_type:  float32\n",
      "Data_type:  int32\n",
      "[1 2 3 4]\n",
      "[1. 2. 3. 4.]\n",
      "[1 2 3 4]\n"
     ]
    }
   ],
   "source": [
    "x2 = np.array([1,2,3,4],dtype = np.int32)\n",
    "\n",
    "new = np.float32(x2)\n",
    "new_one = np.int_(new)\n",
    "\n",
    "print(\"Data_type: \",x2.dtype)\n",
    "print(\"Data_type: \",new.dtype)\n",
    "print(\"Data_type: \",new_one.dtype)\n",
    "print(x2)\n",
    "print(new)\n",
    "print(new_one)"
   ]
  },
  {
   "cell_type": "code",
   "execution_count": 18,
   "id": "b486a35f",
   "metadata": {},
   "outputs": [
    {
     "name": "stdout",
     "output_type": "stream",
     "text": [
      "[1. 2. 3. 4.]\n",
      "[1. 2. 3. 4.]\n"
     ]
    }
   ],
   "source": [
    "x3 = np.array([1,2,3,4],dtype = \"f\")\n",
    "\n",
    "new_1 = x3.astype(float)\n",
    "\n",
    "print(x3)\n",
    "print(new_1)"
   ]
  },
  {
   "cell_type": "code",
   "execution_count": null,
   "id": "248ca5fb",
   "metadata": {},
   "outputs": [],
   "source": []
  }
 ],
 "metadata": {
  "kernelspec": {
   "display_name": "Python 3 (ipykernel)",
   "language": "python",
   "name": "python3"
  },
  "language_info": {
   "codemirror_mode": {
    "name": "ipython",
    "version": 3
   },
   "file_extension": ".py",
   "mimetype": "text/x-python",
   "name": "python",
   "nbconvert_exporter": "python",
   "pygments_lexer": "ipython3",
   "version": "3.11.5"
  }
 },
 "nbformat": 4,
 "nbformat_minor": 5
}
