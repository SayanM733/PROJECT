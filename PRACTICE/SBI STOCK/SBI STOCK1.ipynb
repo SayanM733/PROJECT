{
 "cells": [
  {
   "cell_type": "code",
   "execution_count": 13,
   "id": "f1611600",
   "metadata": {},
   "outputs": [
    {
     "data": {
      "text/html": [
       "<div>\n",
       "<style scoped>\n",
       "    .dataframe tbody tr th:only-of-type {\n",
       "        vertical-align: middle;\n",
       "    }\n",
       "\n",
       "    .dataframe tbody tr th {\n",
       "        vertical-align: top;\n",
       "    }\n",
       "\n",
       "    .dataframe thead th {\n",
       "        text-align: right;\n",
       "    }\n",
       "</style>\n",
       "<table border=\"1\" class=\"dataframe\">\n",
       "  <thead>\n",
       "    <tr style=\"text-align: right;\">\n",
       "      <th></th>\n",
       "      <th>Date</th>\n",
       "      <th>Open</th>\n",
       "      <th>High</th>\n",
       "      <th>Low</th>\n",
       "      <th>Close</th>\n",
       "      <th>Adj Close</th>\n",
       "      <th>Volume</th>\n",
       "      <th>VWAP</th>\n",
       "    </tr>\n",
       "  </thead>\n",
       "  <tbody>\n",
       "    <tr>\n",
       "      <th>0</th>\n",
       "      <td>03-01-2000</td>\n",
       "      <td>22.267092</td>\n",
       "      <td>22.988886</td>\n",
       "      <td>22.101974</td>\n",
       "      <td>22.988886</td>\n",
       "      <td>16.110510</td>\n",
       "      <td>25152894.0</td>\n",
       "      <td>22.69324867</td>\n",
       "    </tr>\n",
       "    <tr>\n",
       "      <th>1</th>\n",
       "      <td>04-01-2000</td>\n",
       "      <td>22.988886</td>\n",
       "      <td>24.720245</td>\n",
       "      <td>22.535995</td>\n",
       "      <td>24.446625</td>\n",
       "      <td>17.132088</td>\n",
       "      <td>47648560.0</td>\n",
       "      <td>23.900955</td>\n",
       "    </tr>\n",
       "    <tr>\n",
       "      <th>2</th>\n",
       "      <td>05-01-2000</td>\n",
       "      <td>23.493668</td>\n",
       "      <td>24.974997</td>\n",
       "      <td>23.116261</td>\n",
       "      <td>23.441774</td>\n",
       "      <td>16.427893</td>\n",
       "      <td>36396207.0</td>\n",
       "      <td>23.844344</td>\n",
       "    </tr>\n",
       "    <tr>\n",
       "      <th>3</th>\n",
       "      <td>06-01-2000</td>\n",
       "      <td>23.776726</td>\n",
       "      <td>25.286358</td>\n",
       "      <td>23.776726</td>\n",
       "      <td>24.625893</td>\n",
       "      <td>17.257719</td>\n",
       "      <td>70573968.0</td>\n",
       "      <td>24.56299233</td>\n",
       "    </tr>\n",
       "    <tr>\n",
       "      <th>4</th>\n",
       "      <td>07-01-2000</td>\n",
       "      <td>24.673071</td>\n",
       "      <td>26.409147</td>\n",
       "      <td>24.059780</td>\n",
       "      <td>25.786425</td>\n",
       "      <td>18.071014</td>\n",
       "      <td>83453217.0</td>\n",
       "      <td>25.41845067</td>\n",
       "    </tr>\n",
       "    <tr>\n",
       "      <th>...</th>\n",
       "      <td>...</td>\n",
       "      <td>...</td>\n",
       "      <td>...</td>\n",
       "      <td>...</td>\n",
       "      <td>...</td>\n",
       "      <td>...</td>\n",
       "      <td>...</td>\n",
       "      <td>...</td>\n",
       "    </tr>\n",
       "    <tr>\n",
       "      <th>5868</th>\n",
       "      <td>19-06-2023</td>\n",
       "      <td>571.250000</td>\n",
       "      <td>572.750000</td>\n",
       "      <td>565.900024</td>\n",
       "      <td>568.849976</td>\n",
       "      <td>568.849976</td>\n",
       "      <td>17903691.0</td>\n",
       "      <td>569.1666667</td>\n",
       "    </tr>\n",
       "    <tr>\n",
       "      <th>5869</th>\n",
       "      <td>20-06-2023</td>\n",
       "      <td>568.849976</td>\n",
       "      <td>569.450012</td>\n",
       "      <td>562.549988</td>\n",
       "      <td>567.400024</td>\n",
       "      <td>567.400024</td>\n",
       "      <td>14549152.0</td>\n",
       "      <td>566.4666747</td>\n",
       "    </tr>\n",
       "    <tr>\n",
       "      <th>5870</th>\n",
       "      <td>21-06-2023</td>\n",
       "      <td>567.400024</td>\n",
       "      <td>569.500000</td>\n",
       "      <td>565.650024</td>\n",
       "      <td>566.349976</td>\n",
       "      <td>566.349976</td>\n",
       "      <td>14946871.0</td>\n",
       "      <td>567.1666667</td>\n",
       "    </tr>\n",
       "    <tr>\n",
       "      <th>5871</th>\n",
       "      <td>22-06-2023</td>\n",
       "      <td>566.349976</td>\n",
       "      <td>569.000000</td>\n",
       "      <td>561.049988</td>\n",
       "      <td>562.950012</td>\n",
       "      <td>562.950012</td>\n",
       "      <td>14979063.0</td>\n",
       "      <td>564.3333333</td>\n",
       "    </tr>\n",
       "    <tr>\n",
       "      <th>5872</th>\n",
       "      <td>23-06-2023</td>\n",
       "      <td>562.000000</td>\n",
       "      <td>562.099976</td>\n",
       "      <td>553.799988</td>\n",
       "      <td>554.599976</td>\n",
       "      <td>554.599976</td>\n",
       "      <td>12215712.0</td>\n",
       "      <td>556.8333133</td>\n",
       "    </tr>\n",
       "  </tbody>\n",
       "</table>\n",
       "<p>5864 rows × 8 columns</p>\n",
       "</div>"
      ],
      "text/plain": [
       "            Date        Open        High         Low       Close   Adj Close  \\\n",
       "0     03-01-2000   22.267092   22.988886   22.101974   22.988886   16.110510   \n",
       "1     04-01-2000   22.988886   24.720245   22.535995   24.446625   17.132088   \n",
       "2     05-01-2000   23.493668   24.974997   23.116261   23.441774   16.427893   \n",
       "3     06-01-2000   23.776726   25.286358   23.776726   24.625893   17.257719   \n",
       "4     07-01-2000   24.673071   26.409147   24.059780   25.786425   18.071014   \n",
       "...          ...         ...         ...         ...         ...         ...   \n",
       "5868  19-06-2023  571.250000  572.750000  565.900024  568.849976  568.849976   \n",
       "5869  20-06-2023  568.849976  569.450012  562.549988  567.400024  567.400024   \n",
       "5870  21-06-2023  567.400024  569.500000  565.650024  566.349976  566.349976   \n",
       "5871  22-06-2023  566.349976  569.000000  561.049988  562.950012  562.950012   \n",
       "5872  23-06-2023  562.000000  562.099976  553.799988  554.599976  554.599976   \n",
       "\n",
       "          Volume         VWAP  \n",
       "0     25152894.0  22.69324867  \n",
       "1     47648560.0    23.900955  \n",
       "2     36396207.0    23.844344  \n",
       "3     70573968.0  24.56299233  \n",
       "4     83453217.0  25.41845067  \n",
       "...          ...          ...  \n",
       "5868  17903691.0  569.1666667  \n",
       "5869  14549152.0  566.4666747  \n",
       "5870  14946871.0  567.1666667  \n",
       "5871  14979063.0  564.3333333  \n",
       "5872  12215712.0  556.8333133  \n",
       "\n",
       "[5864 rows x 8 columns]"
      ]
     },
     "execution_count": 13,
     "metadata": {},
     "output_type": "execute_result"
    }
   ],
   "source": [
    "import pandas as pd\n",
    "import matplotlib.pyplot as plt\n",
    "from sklearn import linear_model\n",
    "\n",
    "df = pd.read_csv(r'E:\\ML\\PROJECT\\PRACTICE\\SBI STOCK\\SBI_BANK.csv')\n",
    "df.dropna(inplace=True)\n",
    "df"
   ]
  },
  {
   "cell_type": "code",
   "execution_count": 14,
   "id": "445999da",
   "metadata": {},
   "outputs": [
    {
     "data": {
      "image/png": "[encoded data removed]",
      "text/plain": [
       "<Figure size 640x480 with 1 Axes>"
      ]
     },
     "metadata": {},
     "output_type": "display_data"
    }
   ],
   "source": [
    "x = df['Open']\n",
    "y = df['Close']\n",
    "\n",
    "plt.plot(x,y)\n",
    "plt.show()"
   ]
  },
  {
   "cell_type": "code",
   "execution_count": 15,
   "id": "564c4317",
   "metadata": {},
   "outputs": [
    {
     "data": {
      "text/html": [
       "<style>#sk-container-id-4 {color: black;}#sk-container-id-4 pre{padding: 0;}#sk-container-id-4 div.sk-toggleable {background-color: white;}#sk-container-id-4 label.sk-toggleable__label {cursor: pointer;display: block;width: 100%;margin-bottom: 0;padding: 0.3em;box-sizing: border-box;text-align: center;}#sk-container-id-4 label.sk-toggleable__label-arrow:before {content: \"▸\";float: left;margin-right: 0.25em;color: #696969;}#sk-container-id-4 label.sk-toggleable__label-arrow:hover:before {color: black;}#sk-container-id-4 div.sk-estimator:hover label.sk-toggleable__label-arrow:before {color: black;}#sk-container-id-4 div.sk-toggleable__content {max-height: 0;max-width: 0;overflow: hidden;text-align: left;background-color: #f0f8ff;}#sk-container-id-4 div.sk-toggleable__content pre {margin: 0.2em;color: black;border-radius: 0.25em;background-color: #f0f8ff;}#sk-container-id-4 input.sk-toggleable__control:checked~div.sk-toggleable__content {max-height: 200px;max-width: 100%;overflow: auto;}#sk-container-id-4 input.sk-toggleable__control:checked~label.sk-toggleable__label-arrow:before {content: \"▾\";}#sk-container-id-4 div.sk-estimator input.sk-toggleable__control:checked~label.sk-toggleable__label {background-color: #d4ebff;}#sk-container-id-4 div.sk-label input.sk-toggleable__control:checked~label.sk-toggleable__label {background-color: #d4ebff;}#sk-container-id-4 input.sk-hidden--visually {border: 0;clip: rect(1px 1px 1px 1px);clip: rect(1px, 1px, 1px, 1px);height: 1px;margin: -1px;overflow: hidden;padding: 0;position: absolute;width: 1px;}#sk-container-id-4 div.sk-estimator {font-family: monospace;background-color: #f0f8ff;border: 1px dotted black;border-radius: 0.25em;box-sizing: border-box;margin-bottom: 0.5em;}#sk-container-id-4 div.sk-estimator:hover {background-color: #d4ebff;}#sk-container-id-4 div.sk-parallel-item::after {content: \"\";width: 100%;border-bottom: 1px solid gray;flex-grow: 1;}#sk-container-id-4 div.sk-label:hover label.sk-toggleable__label {background-color: #d4ebff;}#sk-container-id-4 div.sk-serial::before {content: \"\";position: absolute;border-left: 1px solid gray;box-sizing: border-box;top: 0;bottom: 0;left: 50%;z-index: 0;}#sk-container-id-4 div.sk-serial {display: flex;flex-direction: column;align-items: center;background-color: white;padding-right: 0.2em;padding-left: 0.2em;position: relative;}#sk-container-id-4 div.sk-item {position: relative;z-index: 1;}#sk-container-id-4 div.sk-parallel {display: flex;align-items: stretch;justify-content: center;background-color: white;position: relative;}#sk-container-id-4 div.sk-item::before, #sk-container-id-4 div.sk-parallel-item::before {content: \"\";position: absolute;border-left: 1px solid gray;box-sizing: border-box;top: 0;bottom: 0;left: 50%;z-index: -1;}#sk-container-id-4 div.sk-parallel-item {display: flex;flex-direction: column;z-index: 1;position: relative;background-color: white;}#sk-container-id-4 div.sk-parallel-item:first-child::after {align-self: flex-end;width: 50%;}#sk-container-id-4 div.sk-parallel-item:last-child::after {align-self: flex-start;width: 50%;}#sk-container-id-4 div.sk-parallel-item:only-child::after {width: 0;}#sk-container-id-4 div.sk-dashed-wrapped {border: 1px dashed gray;margin: 0 0.4em 0.5em 0.4em;box-sizing: border-box;padding-bottom: 0.4em;background-color: white;}#sk-container-id-4 div.sk-label label {font-family: monospace;font-weight: bold;display: inline-block;line-height: 1.2em;}#sk-container-id-4 div.sk-label-container {text-align: center;}#sk-container-id-4 div.sk-container {/* jupyter's `normalize.less` sets `[hidden] { display: none; }` but bootstrap.min.css set `[hidden] { display: none !important; }` so we also need the `!important` here to be able to override the default hidden behavior on the sphinx rendered scikit-learn.org. See: https://github.com/scikit-learn/scikit-learn/issues/21755 */display: inline-block !important;position: relative;}#sk-container-id-4 div.sk-text-repr-fallback {display: none;}</style><div id=\"sk-container-id-4\" class=\"sk-top-container\"><div class=\"sk-text-repr-fallback\"><pre>LinearRegression()</pre><b>In a Jupyter environment, please rerun this cell to show the HTML representation or trust the notebook. <br />On GitHub, the HTML representation is unable to render, please try loading this page with nbviewer.org.</b></div><div class=\"sk-container\" hidden><div class=\"sk-item\"><div class=\"sk-estimator sk-toggleable\"><input class=\"sk-toggleable__control sk-hidden--visually\" id=\"sk-estimator-id-4\" type=\"checkbox\" checked><label for=\"sk-estimator-id-4\" class=\"sk-toggleable__label sk-toggleable__label-arrow\">LinearRegression</label><div class=\"sk-toggleable__content\"><pre>LinearRegression()</pre></div></div></div></div></div>"
      ],
      "text/plain": [
       "LinearRegression()"
      ]
     },
     "execution_count": 15,
     "metadata": {},
     "output_type": "execute_result"
    }
   ],
   "source": [
    "from sklearn import linear_model\n",
    "from sklearn.model_selection import train_test_split\n",
    "from sklearn.metrics import r2_score\n",
    "from sklearn.metrics import mean_absolute_error\n",
    "sbi = linear_model.LinearRegression()\n",
    "sbi.fit(df[['Open']],df['Close'])"
   ]
  },
  {
   "cell_type": "code",
   "execution_count": 17,
   "id": "634bedae",
   "metadata": {},
   "outputs": [
    {
     "name": "stdout",
     "output_type": "stream",
     "text": [
      "[597.7413516]\n",
      "Predicted Close Price: 597.7413515960648\n"
     ]
    },
    {
     "name": "stderr",
     "output_type": "stream",
     "text": [
      "C:\\Users\\Sayan\\anaconda3\\Lib\\site-packages\\sklearn\\base.py:464: UserWarning: X does not have valid feature names, but LinearRegression was fitted with feature names\n",
      "  warnings.warn(\n"
     ]
    }
   ],
   "source": [
    "pred = sbi.predict([[598.700000]])\n",
    "print(pred)\n",
    "print(\"Predicted Close Price:\", pred[0])\n",
    "# print(\"Accuracy Score :\",r2_score(y, sbi.predict(x)))\n",
    "# print(\"Mean Absolute Error (MAE):\", mean_absolute_error(test_y, sbi.predict(test_x)))\n"
   ]
  },
  {
   "cell_type": "code",
   "execution_count": 22,
   "id": "da6776b5",
   "metadata": {},
   "outputs": [
    {
     "name": "stdout",
     "output_type": "stream",
     "text": [
      "Predicted Close Price: [593.26702569]\n",
      "Accuracy Score: 0.9990416239015034\n",
      "Mean Absolute Error (MAE): 2.782096198949816\n"
     ]
    },
    {
     "name": "stderr",
     "output_type": "stream",
     "text": [
      "C:\\Users\\Sayan\\anaconda3\\Lib\\site-packages\\sklearn\\base.py:464: UserWarning: X does not have valid feature names, but LinearRegression was fitted with feature names\n",
      "  warnings.warn(\n"
     ]
    }
   ],
   "source": [
    "x = df[['Open']]\n",
    "y = df[['Close']]\n",
    "\n",
    "train_x, test_x, train_y, test_y = train_test_split(x, y, random_state=0)\n",
    "\n",
    "sbi = linear_model.LinearRegression()\n",
    "sbi.fit(train_x, train_y)\n",
    "\n",
    "pred = sbi.predict([[594.100000]])\n",
    "print(\"Predicted Close Price:\", pred[0])  # Access the first element of the prediction array\n",
    "print(\"Accuracy Score:\", r2_score(test_y, sbi.predict(test_x)))\n",
    "print(\"Mean Absolute Error (MAE):\", mean_absolute_error(test_y, sbi.predict(test_x)))"
   ]
  },
  {
   "cell_type": "code",
   "execution_count": null,
   "id": "79799c73",
   "metadata": {},
   "outputs": [],
   "source": []
  }
 ],
 "metadata": {
  "kernelspec": {
   "display_name": "Python 3 (ipykernel)",
   "language": "python",
   "name": "python3"
  },
  "language_info": {
   "codemirror_mode": {
    "name": "ipython",
    "version": 3
   },
   "file_extension": ".py",
   "mimetype": "text/x-python",
   "name": "python",
   "nbconvert_exporter": "python",
   "pygments_lexer": "ipython3",
   "version": "3.11.4"
  }
 },
 "nbformat": 4,
 "nbformat_minor": 5
}
