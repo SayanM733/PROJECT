{
 "cells": [
  {
   "cell_type": "code",
   "execution_count": 2,
   "id": "34100662",
   "metadata": {},
   "outputs": [
    {
     "data": {
      "text/html": [
       "<div>\n",
       "<style scoped>\n",
       "    .dataframe tbody tr th:only-of-type {\n",
       "        vertical-align: middle;\n",
       "    }\n",
       "\n",
       "    .dataframe tbody tr th {\n",
       "        vertical-align: top;\n",
       "    }\n",
       "\n",
       "    .dataframe thead th {\n",
       "        text-align: right;\n",
       "    }\n",
       "</style>\n",
       "<table border=\"1\" class=\"dataframe\">\n",
       "  <thead>\n",
       "    <tr style=\"text-align: right;\">\n",
       "      <th></th>\n",
       "      <th>Date</th>\n",
       "      <th>Open</th>\n",
       "      <th>High</th>\n",
       "      <th>Low</th>\n",
       "      <th>Close</th>\n",
       "      <th>Adj Close</th>\n",
       "      <th>Volume</th>\n",
       "      <th>VWAP</th>\n",
       "    </tr>\n",
       "  </thead>\n",
       "  <tbody>\n",
       "    <tr>\n",
       "      <th>0</th>\n",
       "      <td>02-07-2002</td>\n",
       "      <td>1.386372</td>\n",
       "      <td>1.390971</td>\n",
       "      <td>1.356484</td>\n",
       "      <td>1.373344</td>\n",
       "      <td>-0.010540</td>\n",
       "      <td>1016147.0</td>\n",
       "      <td>1.373599667</td>\n",
       "    </tr>\n",
       "    <tr>\n",
       "      <th>1</th>\n",
       "      <td>03-07-2002</td>\n",
       "      <td>1.371811</td>\n",
       "      <td>1.387139</td>\n",
       "      <td>1.364914</td>\n",
       "      <td>1.373344</td>\n",
       "      <td>-0.010540</td>\n",
       "      <td>980394.0</td>\n",
       "      <td>1.375132333</td>\n",
       "    </tr>\n",
       "    <tr>\n",
       "      <th>2</th>\n",
       "      <td>04-07-2002</td>\n",
       "      <td>1.379475</td>\n",
       "      <td>1.401700</td>\n",
       "      <td>1.379475</td>\n",
       "      <td>1.381008</td>\n",
       "      <td>-0.010599</td>\n",
       "      <td>972747.0</td>\n",
       "      <td>1.387394333</td>\n",
       "    </tr>\n",
       "    <tr>\n",
       "      <th>3</th>\n",
       "      <td>05-07-2002</td>\n",
       "      <td>1.388672</td>\n",
       "      <td>1.388672</td>\n",
       "      <td>1.372578</td>\n",
       "      <td>1.377942</td>\n",
       "      <td>-0.010575</td>\n",
       "      <td>974496.0</td>\n",
       "      <td>1.379730667</td>\n",
       "    </tr>\n",
       "    <tr>\n",
       "      <th>4</th>\n",
       "      <td>08-07-2002</td>\n",
       "      <td>1.394803</td>\n",
       "      <td>1.454580</td>\n",
       "      <td>1.364914</td>\n",
       "      <td>1.438486</td>\n",
       "      <td>-0.011040</td>\n",
       "      <td>1061686.0</td>\n",
       "      <td>1.419326667</td>\n",
       "    </tr>\n",
       "    <tr>\n",
       "      <th>...</th>\n",
       "      <td>...</td>\n",
       "      <td>...</td>\n",
       "      <td>...</td>\n",
       "      <td>...</td>\n",
       "      <td>...</td>\n",
       "      <td>...</td>\n",
       "      <td>...</td>\n",
       "      <td>...</td>\n",
       "    </tr>\n",
       "    <tr>\n",
       "      <th>5217</th>\n",
       "      <td>19-06-2023</td>\n",
       "      <td>2504.000000</td>\n",
       "      <td>2521.600098</td>\n",
       "      <td>2350.000000</td>\n",
       "      <td>2401.399902</td>\n",
       "      <td>2401.399902</td>\n",
       "      <td>11475674.0</td>\n",
       "      <td>2424.333333</td>\n",
       "    </tr>\n",
       "    <tr>\n",
       "      <th>5218</th>\n",
       "      <td>20-06-2023</td>\n",
       "      <td>2435.000000</td>\n",
       "      <td>2435.000000</td>\n",
       "      <td>2390.000000</td>\n",
       "      <td>2414.800049</td>\n",
       "      <td>2414.800049</td>\n",
       "      <td>2479711.0</td>\n",
       "      <td>2413.266683</td>\n",
       "    </tr>\n",
       "    <tr>\n",
       "      <th>5219</th>\n",
       "      <td>21-06-2023</td>\n",
       "      <td>2426.699951</td>\n",
       "      <td>2440.000000</td>\n",
       "      <td>2393.100098</td>\n",
       "      <td>2405.949951</td>\n",
       "      <td>2405.949951</td>\n",
       "      <td>7418013.0</td>\n",
       "      <td>2413.016683</td>\n",
       "    </tr>\n",
       "    <tr>\n",
       "      <th>5220</th>\n",
       "      <td>22-06-2023</td>\n",
       "      <td>2425.100098</td>\n",
       "      <td>2449.949951</td>\n",
       "      <td>2360.000000</td>\n",
       "      <td>2397.250000</td>\n",
       "      <td>2397.250000</td>\n",
       "      <td>8459191.0</td>\n",
       "      <td>2402.399984</td>\n",
       "    </tr>\n",
       "    <tr>\n",
       "      <th>5221</th>\n",
       "      <td>23-06-2023</td>\n",
       "      <td>2392.300049</td>\n",
       "      <td>2392.300049</td>\n",
       "      <td>2163.300049</td>\n",
       "      <td>2233.550049</td>\n",
       "      <td>2233.550049</td>\n",
       "      <td>15213238.0</td>\n",
       "      <td>2263.050049</td>\n",
       "    </tr>\n",
       "  </tbody>\n",
       "</table>\n",
       "<p>5214 rows × 8 columns</p>\n",
       "</div>"
      ],
      "text/plain": [
       "            Date         Open         High          Low        Close  \\\n",
       "0     02-07-2002     1.386372     1.390971     1.356484     1.373344   \n",
       "1     03-07-2002     1.371811     1.387139     1.364914     1.373344   \n",
       "2     04-07-2002     1.379475     1.401700     1.379475     1.381008   \n",
       "3     05-07-2002     1.388672     1.388672     1.372578     1.377942   \n",
       "4     08-07-2002     1.394803     1.454580     1.364914     1.438486   \n",
       "...          ...          ...          ...          ...          ...   \n",
       "5217  19-06-2023  2504.000000  2521.600098  2350.000000  2401.399902   \n",
       "5218  20-06-2023  2435.000000  2435.000000  2390.000000  2414.800049   \n",
       "5219  21-06-2023  2426.699951  2440.000000  2393.100098  2405.949951   \n",
       "5220  22-06-2023  2425.100098  2449.949951  2360.000000  2397.250000   \n",
       "5221  23-06-2023  2392.300049  2392.300049  2163.300049  2233.550049   \n",
       "\n",
       "        Adj Close      Volume         VWAP  \n",
       "0       -0.010540   1016147.0  1.373599667  \n",
       "1       -0.010540    980394.0  1.375132333  \n",
       "2       -0.010599    972747.0  1.387394333  \n",
       "3       -0.010575    974496.0  1.379730667  \n",
       "4       -0.011040   1061686.0  1.419326667  \n",
       "...           ...         ...          ...  \n",
       "5217  2401.399902  11475674.0  2424.333333  \n",
       "5218  2414.800049   2479711.0  2413.266683  \n",
       "5219  2405.949951   7418013.0  2413.016683  \n",
       "5220  2397.250000   8459191.0  2402.399984  \n",
       "5221  2233.550049  15213238.0  2263.050049  \n",
       "\n",
       "[5214 rows x 8 columns]"
      ]
     },
     "execution_count": 2,
     "metadata": {},
     "output_type": "execute_result"
    }
   ],
   "source": [
    "import pandas as pd\n",
    "import matplotlib.pyplot as plt\n",
    "from sklearn import linear_model\n",
    "\n",
    "df = pd.read_csv(r'E:\\ML\\PROJECT\\PRACTICE\\Adani_Enterprises\\ADANI_ENTERPRISES.CSV')\n",
    "df.dropna(inplace=True)\n",
    "df"
   ]
  },
  {
   "cell_type": "code",
   "execution_count": 3,
   "id": "9833298f",
   "metadata": {},
   "outputs": [
    {
     "data": {
      "image/png": "[encoded data removed]",
      "text/plain": [
       "<Figure size 640x480 with 1 Axes>"
      ]
     },
     "metadata": {},
     "output_type": "display_data"
    }
   ],
   "source": [
    "x = df['Open']\n",
    "y = df['Close']\n",
    "\n",
    "plt.plot(x,y)\n",
    "plt.show()"
   ]
  },
  {
   "cell_type": "code",
   "execution_count": 4,
   "id": "584c2e0b",
   "metadata": {},
   "outputs": [
    {
     "data": {
      "text/html": [
       "<style>#sk-container-id-1 {color: black;}#sk-container-id-1 pre{padding: 0;}#sk-container-id-1 div.sk-toggleable {background-color: white;}#sk-container-id-1 label.sk-toggleable__label {cursor: pointer;display: block;width: 100%;margin-bottom: 0;padding: 0.3em;box-sizing: border-box;text-align: center;}#sk-container-id-1 label.sk-toggleable__label-arrow:before {content: \"▸\";float: left;margin-right: 0.25em;color: #696969;}#sk-container-id-1 label.sk-toggleable__label-arrow:hover:before {color: black;}#sk-container-id-1 div.sk-estimator:hover label.sk-toggleable__label-arrow:before {color: black;}#sk-container-id-1 div.sk-toggleable__content {max-height: 0;max-width: 0;overflow: hidden;text-align: left;background-color: #f0f8ff;}#sk-container-id-1 div.sk-toggleable__content pre {margin: 0.2em;color: black;border-radius: 0.25em;background-color: #f0f8ff;}#sk-container-id-1 input.sk-toggleable__control:checked~div.sk-toggleable__content {max-height: 200px;max-width: 100%;overflow: auto;}#sk-container-id-1 input.sk-toggleable__control:checked~label.sk-toggleable__label-arrow:before {content: \"▾\";}#sk-container-id-1 div.sk-estimator input.sk-toggleable__control:checked~label.sk-toggleable__label {background-color: #d4ebff;}#sk-container-id-1 div.sk-label input.sk-toggleable__control:checked~label.sk-toggleable__label {background-color: #d4ebff;}#sk-container-id-1 input.sk-hidden--visually {border: 0;clip: rect(1px 1px 1px 1px);clip: rect(1px, 1px, 1px, 1px);height: 1px;margin: -1px;overflow: hidden;padding: 0;position: absolute;width: 1px;}#sk-container-id-1 div.sk-estimator {font-family: monospace;background-color: #f0f8ff;border: 1px dotted black;border-radius: 0.25em;box-sizing: border-box;margin-bottom: 0.5em;}#sk-container-id-1 div.sk-estimator:hover {background-color: #d4ebff;}#sk-container-id-1 div.sk-parallel-item::after {content: \"\";width: 100%;border-bottom: 1px solid gray;flex-grow: 1;}#sk-container-id-1 div.sk-label:hover label.sk-toggleable__label {background-color: #d4ebff;}#sk-container-id-1 div.sk-serial::before {content: \"\";position: absolute;border-left: 1px solid gray;box-sizing: border-box;top: 0;bottom: 0;left: 50%;z-index: 0;}#sk-container-id-1 div.sk-serial {display: flex;flex-direction: column;align-items: center;background-color: white;padding-right: 0.2em;padding-left: 0.2em;position: relative;}#sk-container-id-1 div.sk-item {position: relative;z-index: 1;}#sk-container-id-1 div.sk-parallel {display: flex;align-items: stretch;justify-content: center;background-color: white;position: relative;}#sk-container-id-1 div.sk-item::before, #sk-container-id-1 div.sk-parallel-item::before {content: \"\";position: absolute;border-left: 1px solid gray;box-sizing: border-box;top: 0;bottom: 0;left: 50%;z-index: -1;}#sk-container-id-1 div.sk-parallel-item {display: flex;flex-direction: column;z-index: 1;position: relative;background-color: white;}#sk-container-id-1 div.sk-parallel-item:first-child::after {align-self: flex-end;width: 50%;}#sk-container-id-1 div.sk-parallel-item:last-child::after {align-self: flex-start;width: 50%;}#sk-container-id-1 div.sk-parallel-item:only-child::after {width: 0;}#sk-container-id-1 div.sk-dashed-wrapped {border: 1px dashed gray;margin: 0 0.4em 0.5em 0.4em;box-sizing: border-box;padding-bottom: 0.4em;background-color: white;}#sk-container-id-1 div.sk-label label {font-family: monospace;font-weight: bold;display: inline-block;line-height: 1.2em;}#sk-container-id-1 div.sk-label-container {text-align: center;}#sk-container-id-1 div.sk-container {/* jupyter's `normalize.less` sets `[hidden] { display: none; }` but bootstrap.min.css set `[hidden] { display: none !important; }` so we also need the `!important` here to be able to override the default hidden behavior on the sphinx rendered scikit-learn.org. See: https://github.com/scikit-learn/scikit-learn/issues/21755 */display: inline-block !important;position: relative;}#sk-container-id-1 div.sk-text-repr-fallback {display: none;}</style><div id=\"sk-container-id-1\" class=\"sk-top-container\"><div class=\"sk-text-repr-fallback\"><pre>LinearRegression()</pre><b>In a Jupyter environment, please rerun this cell to show the HTML representation or trust the notebook. <br />On GitHub, the HTML representation is unable to render, please try loading this page with nbviewer.org.</b></div><div class=\"sk-container\" hidden><div class=\"sk-item\"><div class=\"sk-estimator sk-toggleable\"><input class=\"sk-toggleable__control sk-hidden--visually\" id=\"sk-estimator-id-1\" type=\"checkbox\" checked><label for=\"sk-estimator-id-1\" class=\"sk-toggleable__label sk-toggleable__label-arrow\">LinearRegression</label><div class=\"sk-toggleable__content\"><pre>LinearRegression()</pre></div></div></div></div></div>"
      ],
      "text/plain": [
       "LinearRegression()"
      ]
     },
     "execution_count": 4,
     "metadata": {},
     "output_type": "execute_result"
    }
   ],
   "source": [
    "from sklearn import linear_model\n",
    "from sklearn.model_selection import train_test_split\n",
    "from sklearn.metrics import r2_score\n",
    "from sklearn.metrics import mean_absolute_error\n",
    "Adan_Ent = linear_model.LinearRegression()\n",
    "Adan_Ent.fit(df[['Open']],df['Close'])"
   ]
  },
  {
   "cell_type": "code",
   "execution_count": 7,
   "id": "0b9b62ec",
   "metadata": {},
   "outputs": [
    {
     "name": "stdout",
     "output_type": "stream",
     "text": [
      "[2461.09231844]\n",
      "Predicted Close Price: 2461.092318442037\n"
     ]
    },
    {
     "name": "stderr",
     "output_type": "stream",
     "text": [
      "C:\\Users\\Sayan\\anaconda3\\Lib\\site-packages\\sklearn\\base.py:464: UserWarning: X does not have valid feature names, but LinearRegression was fitted with feature names\n",
      "  warnings.warn(\n"
     ]
    }
   ],
   "source": [
    "# pred = Adan_Ent.predict([[2467.050000]])\n",
    "# print(pred)\n",
    "# print(\"Predicted Close Price:\", pred[0])"
   ]
  },
  {
   "cell_type": "code",
   "execution_count": 8,
   "id": "33214417",
   "metadata": {},
   "outputs": [
    {
     "name": "stdout",
     "output_type": "stream",
     "text": [
      "Predicted Close Price: [2458.69383275]\n",
      "Accuracy Score: 0.9986090335794492\n",
      "Mean Absolute Error (MAE): 7.1924356467184785\n"
     ]
    },
    {
     "name": "stderr",
     "output_type": "stream",
     "text": [
      "C:\\Users\\Sayan\\anaconda3\\Lib\\site-packages\\sklearn\\base.py:464: UserWarning: X does not have valid feature names, but LinearRegression was fitted with feature names\n",
      "  warnings.warn(\n"
     ]
    }
   ],
   "source": [
    "x = df[['Open']]\n",
    "y = df[['Close']]\n",
    "\n",
    "train_x, test_x, train_y, test_y = train_test_split(x, y, random_state=0)\n",
    "\n",
    "Adan_Ent = linear_model.LinearRegression()\n",
    "Adan_Ent.fit(train_x, train_y)\n",
    "\n",
    "pred = Adan_Ent.predict([[2467.050000]])\n",
    "print(\"Predicted Close Price:\", pred[0])  # Access the first element of the prediction array\n",
    "print(\"Accuracy Score:\", r2_score(test_y, Adan_Ent.predict(test_x)))\n",
    "print(\"Mean Absolute Error (MAE):\", mean_absolute_error(test_y, Adan_Ent.predict(test_x)))"
   ]
  },
  {
   "cell_type": "code",
   "execution_count": null,
   "id": "52926b27",
   "metadata": {},
   "outputs": [],
   "source": []
  }
 ],
 "metadata": {
  "kernelspec": {
   "display_name": "Python 3 (ipykernel)",
   "language": "python",
   "name": "python3"
  },
  "language_info": {
   "codemirror_mode": {
    "name": "ipython",
    "version": 3
   },
   "file_extension": ".py",
   "mimetype": "text/x-python",
   "name": "python",
   "nbconvert_exporter": "python",
   "pygments_lexer": "ipython3",
   "version": "3.11.4"
  }
 },
 "nbformat": 4,
 "nbformat_minor": 5
}
